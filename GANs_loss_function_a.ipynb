{
  "nbformat": 4,
  "nbformat_minor": 0,
  "metadata": {
    "colab": {
      "name": "GANs_loss_function_a.ipynb",
      "provenance": [],
      "mount_file_id": "1uFw4NjZ4AtSxeiDTsryZAAzVF246gL7F",
      "authorship_tag": "ABX9TyPFIRu0T4y7Pr7WcV8zFDcU",
      "include_colab_link": true
    },
    "kernelspec": {
      "name": "python3",
      "display_name": "Python 3"
    },
    "accelerator": "GPU"
  },
  "cells": [
    {
      "cell_type": "markdown",
      "metadata": {
        "id": "view-in-github",
        "colab_type": "text"
      },
      "source": [
        "<a href=\"https://colab.research.google.com/github/moustafa-7/GANs_MNIST/blob/master/GANs_loss_function_a.ipynb\" target=\"_parent\"><img src=\"https://colab.research.google.com/assets/colab-badge.svg\" alt=\"Open In Colab\"/></a>"
      ]
    },
    {
      "cell_type": "code",
      "metadata": {
        "id": "PaN_Ig28Ea2v",
        "colab_type": "code",
        "colab": {}
      },
      "source": [
        "!pip install torchvision tensorboardx jupyter matplotlib numpy"
      ],
      "execution_count": 0,
      "outputs": []
    },
    {
      "cell_type": "code",
      "metadata": {
        "id": "avjF3bc2_tKh",
        "colab_type": "code",
        "colab": {}
      },
      "source": [
        "import os\n",
        "os.chdir(\"/content/drive/My Drive/GANs_MNIST_loss function_b\")"
      ],
      "execution_count": 0,
      "outputs": []
    },
    {
      "cell_type": "code",
      "metadata": {
        "id": "F9s1hRhPD_j2",
        "colab_type": "code",
        "colab": {
          "base_uri": "https://localhost:8080/",
          "height": 34
        },
        "outputId": "25365749-5cee-4019-953f-235e03880c69"
      },
      "source": [
        "!ls"
      ],
      "execution_count": 26,
      "outputs": [
        {
          "output_type": "stream",
          "text": [
            "data  dataset  __pycache__  runs  utils.py  wieghts\n"
          ],
          "name": "stdout"
        }
      ]
    },
    {
      "cell_type": "code",
      "metadata": {
        "id": "QeaJB9a89QmQ",
        "colab_type": "code",
        "colab": {}
      },
      "source": [
        "import torch\n",
        "from torch import nn, optim\n",
        "from torch.autograd.variable import Variable\n",
        "from torchvision import transforms, datasets"
      ],
      "execution_count": 0,
      "outputs": []
    },
    {
      "cell_type": "code",
      "metadata": {
        "id": "5g_n4X7h-TK-",
        "colab_type": "code",
        "colab": {}
      },
      "source": [
        "from utils import Logger"
      ],
      "execution_count": 0,
      "outputs": []
    },
    {
      "cell_type": "code",
      "metadata": {
        "id": "BKjWxPpQ__ak",
        "colab_type": "code",
        "colab": {}
      },
      "source": [
        "def mnist_data():\n",
        "  compose = transforms.Compose(\n",
        "      [transforms.ToTensor(),\n",
        "       transforms.Normalize((.5,),(.5,))]\n",
        "  )\n",
        "  output_dir = './dataset'\n",
        "  return datasets.MNIST(root=output_dir, train=True, transform=compose, download=True)\n",
        "\n",
        "#load data\n",
        "data = mnist_data()\n",
        "\n",
        "#data loader to iterate over it and train\n",
        "data_loader = torch.utils.data.DataLoader(data, batch_size=100, shuffle=True)\n",
        "\n",
        "#Number of batches\n",
        "num_batches = len(data_loader)\n"
      ],
      "execution_count": 0,
      "outputs": []
    },
    {
      "cell_type": "code",
      "metadata": {
        "id": "EK_mTN2FBti5",
        "colab_type": "code",
        "colab": {}
      },
      "source": [
        "# The Descriminator\n",
        "class DNet(torch.nn.Module):\n",
        "  def __init__(self):\n",
        "    super(DNet, self).__init__()\n",
        "\n",
        "    len_features = 28*28\n",
        "    len_out = 1\n",
        "\n",
        "\n",
        "    self.h0 = nn.Sequential(nn.Linear(len_features, 1024),\n",
        "                            nn.LeakyReLU(0.2),\n",
        "                            nn.Dropout(0.3))\n",
        "    \n",
        "    self.h1 = nn.Sequential(nn.Linear(1024,512),\n",
        "                            nn.LeakyReLU(0.2),\n",
        "                            nn.Dropout(0.3))\n",
        "    \n",
        "    self.h2 = nn.Sequential(nn.Linear(512,256),\n",
        "                            nn.LeakyReLU(0.2),\n",
        "                            nn.Dropout(0.3))\n",
        "    \n",
        "    self.out = nn.Sequential(nn.Linear(256, len_out),\n",
        "                             nn.Sigmoid())\n",
        "    \n",
        "  def forward(self, x):\n",
        "    x = self.h0(x)\n",
        "    x = self.h1(x)\n",
        "    x = self.h2(x)\n",
        "    x = self.out(x)\n",
        "    return x\n",
        "\n",
        "dnet = DNet()"
      ],
      "execution_count": 0,
      "outputs": []
    },
    {
      "cell_type": "code",
      "metadata": {
        "id": "ilr9XKnuF9Lf",
        "colab_type": "code",
        "colab": {}
      },
      "source": [
        "class GNet(torch.nn.Module):\n",
        "  def __init__(self):\n",
        "    super(GNet, self).__init__()\n",
        "    len_features = 100\n",
        "    len_out = 28*28\n",
        "\n",
        "\n",
        "    self.h0 = nn.Sequential(nn.Linear(len_features, 256),\n",
        "                            nn.LeakyReLU(0.2))\n",
        "    \n",
        "    self.h1 = nn.Sequential(nn.Linear(256,512),\n",
        "                            nn.LeakyReLU(0.2))\n",
        "    \n",
        "    self.h2 = nn.Sequential(nn.Linear(512,1024),\n",
        "                            nn.LeakyReLU(0.2))\n",
        "    \n",
        "    self.out = nn.Sequential(nn.Linear(1024, len_out),\n",
        "                             nn.Tanh())\n",
        "  \n",
        "  def forward(self, x):\n",
        "    x = self.h0(x)\n",
        "    x = self.h1(x)\n",
        "    x = self.h2(x)\n",
        "    x = self.out(x)\n",
        "    return x\n",
        "\n",
        "gnet = GNet()\n"
      ],
      "execution_count": 0,
      "outputs": []
    },
    {
      "cell_type": "code",
      "metadata": {
        "id": "oJ9MRV1MHR6k",
        "colab_type": "code",
        "colab": {}
      },
      "source": [
        "d_optimizer = optim.Adam(dnet.parameters(), lr=0.0002)\n",
        "g_optimizer = optim.Adam(gnet.parameters(), lr=0.0002)"
      ],
      "execution_count": 0,
      "outputs": []
    },
    {
      "cell_type": "code",
      "metadata": {
        "id": "uxVLjmzDHSQs",
        "colab_type": "code",
        "colab": {}
      },
      "source": [
        "loss = nn.BCELoss()"
      ],
      "execution_count": 0,
      "outputs": []
    },
    {
      "cell_type": "code",
      "metadata": {
        "id": "DeB6ABofDzvK",
        "colab_type": "code",
        "colab": {}
      },
      "source": [
        "def img_to_vec(imgs):\n",
        "  return imgs.view(imgs.size(0), 28*28)\n",
        "\n",
        "def vec_to_img(vecs):\n",
        "  return vecs.view(vecs.size(0), 1, 28, 28)"
      ],
      "execution_count": 0,
      "outputs": []
    },
    {
      "cell_type": "code",
      "metadata": {
        "id": "9DTJEhOgjiRJ",
        "colab_type": "code",
        "colab": {}
      },
      "source": [
        "def ones_vec(size):\n",
        "  data = Variable(torch.ones(size,1))\n",
        "  return data\n",
        "  \n",
        "def zeros_vec(size):\n",
        "  data = Variable(torch.zeros(size,1))\n",
        "  return data"
      ],
      "execution_count": 0,
      "outputs": []
    },
    {
      "cell_type": "code",
      "metadata": {
        "id": "ueVxsOFwG8Yc",
        "colab_type": "code",
        "colab": {}
      },
      "source": [
        "def noise(size):\n",
        "  n = Variable(torch.randn(size, 100))\n",
        "  return n"
      ],
      "execution_count": 0,
      "outputs": []
    },
    {
      "cell_type": "code",
      "metadata": {
        "id": "2t6zlAaDHe5F",
        "colab_type": "code",
        "colab": {}
      },
      "source": [
        "def train_dnet(optimizer, real_data, fake_data):\n",
        "  n = real_data.size(0)\n",
        "  optimizer.zero_grad()\n",
        "\n",
        "  prediction_real = dnet(real_data)\n",
        "  error_real = loss(prediction_real, ones_vec(n))\n",
        "  error_real.backward()\n",
        "\n",
        "  prediction_fake = dnet(fake_data)\n",
        "  error_fake = loss(prediction_fake, zeros_vec(n))\n",
        "  error_fake.backward()\n",
        "\n",
        "  optimizer.step()\n",
        "\n",
        "  return error_real + error_fake, prediction_real, prediction_fake"
      ],
      "execution_count": 0,
      "outputs": []
    },
    {
      "cell_type": "code",
      "metadata": {
        "id": "OJW82mF7prZ5",
        "colab_type": "code",
        "colab": {}
      },
      "source": [
        "def train_gnet(optimizer, real_data, fake_data):\n",
        "  n = fake_data.size(0)\n",
        "\n",
        "  optimizer.zero_grad()\n",
        "\n",
        "  prediction_real = dnet(real_data)\n",
        "  error_real = loss(prediction_real, zeros_vec(n))\n",
        "  error_real.backward()\n",
        "\n",
        "\n",
        "  prediction_fake = dnet(fake_data)\n",
        "  error_fake = loss(prediction_fake, ones_vec(n))\n",
        "  error_fake.backward()\n",
        "  \n",
        "  optimizer.step()\n",
        "\n",
        "  return error_real + error_fake"
      ],
      "execution_count": 0,
      "outputs": []
    },
    {
      "cell_type": "code",
      "metadata": {
        "id": "9UgtAKlnmTKk",
        "colab_type": "code",
        "colab": {}
      },
      "source": [
        "num_test_samples = 16\n",
        "test_noise = noise(num_test_samples)"
      ],
      "execution_count": 0,
      "outputs": []
    },
    {
      "cell_type": "code",
      "metadata": {
        "id": "ECCNlR7VmWyi",
        "colab_type": "code",
        "colab": {}
      },
      "source": [
        "# create logger instance\n",
        "logger = Logger(\"GAN_b_loss\", data_name='MNIST')\n",
        "num_epochs = 200"
      ],
      "execution_count": 0,
      "outputs": []
    },
    {
      "cell_type": "code",
      "metadata": {
        "id": "A7VNo0sRnlPa",
        "colab_type": "code",
        "colab": {}
      },
      "source": [
        "for epoch in range(num_epochs):\n",
        "  for batch_number, (real_batch,_) in enumerate(data_loader):\n",
        "\n",
        "    n = real_batch.size(0)\n",
        "    real_data = Variable(img_to_vec(real_batch))\n",
        "    fake_data = gnet(noise(n)).detach()\n",
        "\n",
        "    d_error, d_pred_real, d_pred_fake = train_dnet(d_optimizer, real_data, fake_data)\n",
        "\n",
        "\n",
        "    fake_data = gnet(noise(n))\n",
        "    \n",
        "    g_error = train_gnet(g_optimizer, real_data, fake_data)\n",
        "\n",
        "    logger.log(d_error, g_error, epoch, batch_number, num_batches)\n",
        "\n",
        "    if batch_number%100 == 0:\n",
        "      test_images = vec_to_img(gnet(test_noise))\n",
        "      test_images = test_images.data\n",
        "      logger.log_images(\n",
        "          test_images, num_test_samples, \n",
        "          epoch, batch_number, num_batches\n",
        "          );\n",
        "      # Display status Logs\n",
        "      logger.display_status(\n",
        "          epoch, num_epochs, batch_number, num_batches,\n",
        "          d_error, g_error, d_pred_real, d_pred_fake\n",
        "          )\n",
        "      torch.save(gnet.state_dict(), \"./weights/gnet.h5\")\n",
        "      torch.save(dnet.state_dict(), \"./weights/dnet.h5\")"
      ],
      "execution_count": 0,
      "outputs": []
    },
    {
      "cell_type": "code",
      "metadata": {
        "id": "UhauG-l5zNi2",
        "colab_type": "code",
        "outputId": "c4e1f08a-df86-468a-a05d-4123e7a04b15",
        "colab": {
          "base_uri": "https://localhost:8080/",
          "height": 68
        }
      },
      "source": [
        "logger.display_status(\n",
        "          epoch, num_epochs, batch_number, num_batches,\n",
        "          d_error, g_error, d_pred_real, d_pred_fake\n",
        "          )"
      ],
      "execution_count": 0,
      "outputs": [
        {
          "output_type": "stream",
          "text": [
            "Epoch: [199/200], Batch Num: [599/600]\n",
            "Discriminator Loss: 1.2447, Generator Loss: 0.8469\n",
            "D(x): 0.5667, D(G(z)): 0.4521\n"
          ],
          "name": "stdout"
        }
      ]
    },
    {
      "cell_type": "code",
      "metadata": {
        "id": "KtKWktW28p1z",
        "colab_type": "code",
        "outputId": "169ebfd1-3e0a-49d2-9b95-c3f2a2c6a4c1",
        "colab": {
          "base_uri": "https://localhost:8080/",
          "height": 260
        }
      },
      "source": [
        "logger.log_images(\n",
        "          test_images, num_test_samples, \n",
        "          epoch, batch_number, num_batches\n",
        "          );"
      ],
      "execution_count": 0,
      "outputs": [
        {
          "output_type": "display_data",
          "data": {
            "image/png": "[encoded data removed]",
            "text/plain": [
              "<Figure size 1152x1152 with 1 Axes>"
            ]
          },
          "metadata": {
            "tags": []
          }
        }
      ]
    }
  ]
}